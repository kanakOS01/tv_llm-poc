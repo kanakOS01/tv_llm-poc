{
 "cells": [
  {
   "cell_type": "code",
   "execution_count": 3,
   "id": "884ba796",
   "metadata": {},
   "outputs": [
    {
     "name": "stdout",
     "output_type": "stream",
     "text": [
      "ResponseCreatedEvent(response=Response(id='resp_67f54c30f60c8192bc61ec9db6f63b9501165fabf49843a6', created_at=1744129072.0, error=None, incomplete_details=None, instructions=None, metadata={}, model='gpt-4o-mini-2024-07-18', object='response', output=[], parallel_tool_calls=True, temperature=1.0, tool_choice='auto', tools=[], top_p=1.0, max_output_tokens=None, previous_response_id=None, reasoning=Reasoning(effort=None, generate_summary=None), status='in_progress', text=ResponseTextConfig(format=ResponseFormatText(type='text')), truncation='disabled', usage=None, user=None, store=True), type='response.created')\n",
      "ResponseInProgressEvent(response=Response(id='resp_67f54c30f60c8192bc61ec9db6f63b9501165fabf49843a6', created_at=1744129072.0, error=None, incomplete_details=None, instructions=None, metadata={}, model='gpt-4o-mini-2024-07-18', object='response', output=[], parallel_tool_calls=True, temperature=1.0, tool_choice='auto', tools=[], top_p=1.0, max_output_tokens=None, previous_response_id=None, reasoning=Reasoning(effort=None, generate_summary=None), status='in_progress', text=ResponseTextConfig(format=ResponseFormatText(type='text')), truncation='disabled', usage=None, user=None, store=True), type='response.in_progress')\n",
      "ResponseOutputItemAddedEvent(item=ResponseOutputMessage(id='msg_67f54c3150ec8192abdc69a367a1f7b601165fabf49843a6', content=[], role='assistant', status='in_progress', type='message'), output_index=0, type='response.output_item.added')\n",
      "ResponseContentPartAddedEvent(content_index=0, item_id='msg_67f54c3150ec8192abdc69a367a1f7b601165fabf49843a6', output_index=0, part=ResponseOutputText(annotations=[], text='', type='output_text'), type='response.content_part.added')\n",
      "ResponseTextDeltaEvent(content_index=0, delta='As', item_id='msg_67f54c3150ec8192abdc69a367a1f7b601165fabf49843a6', output_index=0, type='response.output_text.delta')\n",
      "ResponseTextDeltaEvent(content_index=0, delta=' the', item_id='msg_67f54c3150ec8192abdc69a367a1f7b601165fabf49843a6', output_index=0, type='response.output_text.delta')\n",
      "ResponseTextDeltaEvent(content_index=0, delta=' moon', item_id='msg_67f54c3150ec8192abdc69a367a1f7b601165fabf49843a6', output_index=0, type='response.output_text.delta')\n",
      "ResponseTextDeltaEvent(content_index=0, delta=' shimmer', item_id='msg_67f54c3150ec8192abdc69a367a1f7b601165fabf49843a6', output_index=0, type='response.output_text.delta')\n",
      "ResponseTextDeltaEvent(content_index=0, delta='ed', item_id='msg_67f54c3150ec8192abdc69a367a1f7b601165fabf49843a6', output_index=0, type='response.output_text.delta')\n",
      "ResponseTextDeltaEvent(content_index=0, delta=' brightly', item_id='msg_67f54c3150ec8192abdc69a367a1f7b601165fabf49843a6', output_index=0, type='response.output_text.delta')\n",
      "ResponseTextDeltaEvent(content_index=0, delta=' in', item_id='msg_67f54c3150ec8192abdc69a367a1f7b601165fabf49843a6', output_index=0, type='response.output_text.delta')\n",
      "ResponseTextDeltaEvent(content_index=0, delta=' the', item_id='msg_67f54c3150ec8192abdc69a367a1f7b601165fabf49843a6', output_index=0, type='response.output_text.delta')\n",
      "ResponseTextDeltaEvent(content_index=0, delta=' night', item_id='msg_67f54c3150ec8192abdc69a367a1f7b601165fabf49843a6', output_index=0, type='response.output_text.delta')\n",
      "ResponseTextDeltaEvent(content_index=0, delta=' sky', item_id='msg_67f54c3150ec8192abdc69a367a1f7b601165fabf49843a6', output_index=0, type='response.output_text.delta')\n",
      "ResponseTextDeltaEvent(content_index=0, delta=',', item_id='msg_67f54c3150ec8192abdc69a367a1f7b601165fabf49843a6', output_index=0, type='response.output_text.delta')\n",
      "ResponseTextDeltaEvent(content_index=0, delta=' a', item_id='msg_67f54c3150ec8192abdc69a367a1f7b601165fabf49843a6', output_index=0, type='response.output_text.delta')\n",
      "ResponseTextDeltaEvent(content_index=0, delta=' gentle', item_id='msg_67f54c3150ec8192abdc69a367a1f7b601165fabf49843a6', output_index=0, type='response.output_text.delta')\n",
      "ResponseTextDeltaEvent(content_index=0, delta=' unicorn', item_id='msg_67f54c3150ec8192abdc69a367a1f7b601165fabf49843a6', output_index=0, type='response.output_text.delta')\n",
      "ResponseTextDeltaEvent(content_index=0, delta=' named', item_id='msg_67f54c3150ec8192abdc69a367a1f7b601165fabf49843a6', output_index=0, type='response.output_text.delta')\n",
      "ResponseTextDeltaEvent(content_index=0, delta=' L', item_id='msg_67f54c3150ec8192abdc69a367a1f7b601165fabf49843a6', output_index=0, type='response.output_text.delta')\n",
      "ResponseTextDeltaEvent(content_index=0, delta='ila', item_id='msg_67f54c3150ec8192abdc69a367a1f7b601165fabf49843a6', output_index=0, type='response.output_text.delta')\n",
      "ResponseTextDeltaEvent(content_index=0, delta=' soared', item_id='msg_67f54c3150ec8192abdc69a367a1f7b601165fabf49843a6', output_index=0, type='response.output_text.delta')\n",
      "ResponseTextDeltaEvent(content_index=0, delta=' through', item_id='msg_67f54c3150ec8192abdc69a367a1f7b601165fabf49843a6', output_index=0, type='response.output_text.delta')\n",
      "ResponseTextDeltaEvent(content_index=0, delta=' the', item_id='msg_67f54c3150ec8192abdc69a367a1f7b601165fabf49843a6', output_index=0, type='response.output_text.delta')\n",
      "ResponseTextDeltaEvent(content_index=0, delta=' clouds', item_id='msg_67f54c3150ec8192abdc69a367a1f7b601165fabf49843a6', output_index=0, type='response.output_text.delta')\n",
      "ResponseTextDeltaEvent(content_index=0, delta=',', item_id='msg_67f54c3150ec8192abdc69a367a1f7b601165fabf49843a6', output_index=0, type='response.output_text.delta')\n",
      "ResponseTextDeltaEvent(content_index=0, delta=' sprink', item_id='msg_67f54c3150ec8192abdc69a367a1f7b601165fabf49843a6', output_index=0, type='response.output_text.delta')\n",
      "ResponseTextDeltaEvent(content_index=0, delta='ling', item_id='msg_67f54c3150ec8192abdc69a367a1f7b601165fabf49843a6', output_index=0, type='response.output_text.delta')\n",
      "ResponseTextDeltaEvent(content_index=0, delta=' st', item_id='msg_67f54c3150ec8192abdc69a367a1f7b601165fabf49843a6', output_index=0, type='response.output_text.delta')\n",
      "ResponseTextDeltaEvent(content_index=0, delta='ard', item_id='msg_67f54c3150ec8192abdc69a367a1f7b601165fabf49843a6', output_index=0, type='response.output_text.delta')\n",
      "ResponseTextDeltaEvent(content_index=0, delta='ust', item_id='msg_67f54c3150ec8192abdc69a367a1f7b601165fabf49843a6', output_index=0, type='response.output_text.delta')\n",
      "ResponseTextDeltaEvent(content_index=0, delta=' over', item_id='msg_67f54c3150ec8192abdc69a367a1f7b601165fabf49843a6', output_index=0, type='response.output_text.delta')\n",
      "ResponseTextDeltaEvent(content_index=0, delta=' sleeping', item_id='msg_67f54c3150ec8192abdc69a367a1f7b601165fabf49843a6', output_index=0, type='response.output_text.delta')\n",
      "ResponseTextDeltaEvent(content_index=0, delta=' children', item_id='msg_67f54c3150ec8192abdc69a367a1f7b601165fabf49843a6', output_index=0, type='response.output_text.delta')\n",
      "ResponseTextDeltaEvent(content_index=0, delta=' to', item_id='msg_67f54c3150ec8192abdc69a367a1f7b601165fabf49843a6', output_index=0, type='response.output_text.delta')\n",
      "ResponseTextDeltaEvent(content_index=0, delta=' fill', item_id='msg_67f54c3150ec8192abdc69a367a1f7b601165fabf49843a6', output_index=0, type='response.output_text.delta')\n",
      "ResponseTextDeltaEvent(content_index=0, delta=' their', item_id='msg_67f54c3150ec8192abdc69a367a1f7b601165fabf49843a6', output_index=0, type='response.output_text.delta')\n",
      "ResponseTextDeltaEvent(content_index=0, delta=' dreams', item_id='msg_67f54c3150ec8192abdc69a367a1f7b601165fabf49843a6', output_index=0, type='response.output_text.delta')\n",
      "ResponseTextDeltaEvent(content_index=0, delta=' with', item_id='msg_67f54c3150ec8192abdc69a367a1f7b601165fabf49843a6', output_index=0, type='response.output_text.delta')\n",
      "ResponseTextDeltaEvent(content_index=0, delta=' magic', item_id='msg_67f54c3150ec8192abdc69a367a1f7b601165fabf49843a6', output_index=0, type='response.output_text.delta')\n",
      "ResponseTextDeltaEvent(content_index=0, delta=' and', item_id='msg_67f54c3150ec8192abdc69a367a1f7b601165fabf49843a6', output_index=0, type='response.output_text.delta')\n",
      "ResponseTextDeltaEvent(content_index=0, delta=' wonder', item_id='msg_67f54c3150ec8192abdc69a367a1f7b601165fabf49843a6', output_index=0, type='response.output_text.delta')\n",
      "ResponseTextDeltaEvent(content_index=0, delta='.', item_id='msg_67f54c3150ec8192abdc69a367a1f7b601165fabf49843a6', output_index=0, type='response.output_text.delta')\n",
      "ResponseTextDoneEvent(content_index=0, item_id='msg_67f54c3150ec8192abdc69a367a1f7b601165fabf49843a6', output_index=0, text='As the moon shimmered brightly in the night sky, a gentle unicorn named Lila soared through the clouds, sprinkling stardust over sleeping children to fill their dreams with magic and wonder.', type='response.output_text.done')\n",
      "ResponseContentPartDoneEvent(content_index=0, item_id='msg_67f54c3150ec8192abdc69a367a1f7b601165fabf49843a6', output_index=0, part=ResponseOutputText(annotations=[], text='As the moon shimmered brightly in the night sky, a gentle unicorn named Lila soared through the clouds, sprinkling stardust over sleeping children to fill their dreams with magic and wonder.', type='output_text'), type='response.content_part.done')\n",
      "ResponseOutputItemDoneEvent(item=ResponseOutputMessage(id='msg_67f54c3150ec8192abdc69a367a1f7b601165fabf49843a6', content=[ResponseOutputText(annotations=[], text='As the moon shimmered brightly in the night sky, a gentle unicorn named Lila soared through the clouds, sprinkling stardust over sleeping children to fill their dreams with magic and wonder.', type='output_text')], role='assistant', status='completed', type='message'), output_index=0, type='response.output_item.done')\n",
      "ResponseCompletedEvent(response=Response(id='resp_67f54c30f60c8192bc61ec9db6f63b9501165fabf49843a6', created_at=1744129072.0, error=None, incomplete_details=None, instructions=None, metadata={}, model='gpt-4o-mini-2024-07-18', object='response', output=[ResponseOutputMessage(id='msg_67f54c3150ec8192abdc69a367a1f7b601165fabf49843a6', content=[ResponseOutputText(annotations=[], text='As the moon shimmered brightly in the night sky, a gentle unicorn named Lila soared through the clouds, sprinkling stardust over sleeping children to fill their dreams with magic and wonder.', type='output_text')], role='assistant', status='completed', type='message')], parallel_tool_calls=True, temperature=1.0, tool_choice='auto', tools=[], top_p=1.0, max_output_tokens=None, previous_response_id=None, reasoning=Reasoning(effort=None, generate_summary=None), status='completed', text=ResponseTextConfig(format=ResponseFormatText(type='text')), truncation='disabled', usage=ResponseUsage(input_tokens=18, input_tokens_details=InputTokensDetails(cached_tokens=0), output_tokens=40, output_tokens_details=OutputTokensDetails(reasoning_tokens=0), total_tokens=58), user=None, store=True), type='response.completed')\n"
     ]
    }
   ],
   "source": [
    "from openai import OpenAI\n",
    "\n",
    "client = OpenAI()\n",
    "\n",
    "stream = client.responses.create(\n",
    "    model=\"gpt-4o-mini\",\n",
    "    input=\"Write a one-sentence bedtime story about a unicorn.\",\n",
    "    stream=True,\n",
    ")\n",
    "\n",
    "for event in stream:\n",
    "    print(event)"
   ]
  },
  {
   "cell_type": "code",
   "execution_count": 5,
   "id": "e3605e79",
   "metadata": {},
   "outputs": [
    {
     "name": "stdout",
     "output_type": "stream",
     "text": [
      "As the moonlight sparkled like diamonds, a brave little unicorn named Luna soared through the starlit skies, spreading dreams and magic to every sleeping child below."
     ]
    }
   ],
   "source": [
    "from openai import OpenAI\n",
    "\n",
    "client = OpenAI()\n",
    "\n",
    "stream = client.responses.create(\n",
    "    model=\"gpt-4o-mini\",\n",
    "    input=\"Write a one-sentence bedtime story about a unicorn.\",\n",
    "    stream=True,\n",
    ")\n",
    "\n",
    "for event in stream:\n",
    "    # Dynamically get and print only text parts\n",
    "    if hasattr(event, \"delta\"):\n",
    "        print(event.delta, end=\"\", flush=True)\n"
   ]
  },
  {
   "cell_type": "code",
   "execution_count": null,
   "id": "17ea89c9",
   "metadata": {},
   "outputs": [],
   "source": []
  }
 ],
 "metadata": {
  "kernelspec": {
   "display_name": "tolvera-D9sxMHpU-py3.12",
   "language": "python",
   "name": "python3"
  },
  "language_info": {
   "codemirror_mode": {
    "name": "ipython",
    "version": 3
   },
   "file_extension": ".py",
   "mimetype": "text/x-python",
   "name": "python",
   "nbconvert_exporter": "python",
   "pygments_lexer": "ipython3",
   "version": "3.12.9"
  }
 },
 "nbformat": 4,
 "nbformat_minor": 5
}
